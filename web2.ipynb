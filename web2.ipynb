{
 "cells": [
  {
   "cell_type": "code",
   "execution_count": 4,
   "id": "24126c68",
   "metadata": {},
   "outputs": [
    {
     "name": "stdout",
     "output_type": "stream",
     "text": [
      "<h1>welcome friends plz fill below form</h1>\n"
     ]
    }
   ],
   "source": [
    "from bs4 import BeautifulSoup #importing library  BeautifulSoup \n",
    "import requests\n",
    "import csv\n",
    "\n",
    "get_response=requests.get('http://127.0.0.1:5000') #passing a local url for test\n",
    "record=BeautifulSoup(get_response.content,'html.parser') #using html parser to get a clear format,and get content from url\n",
    "record1=record.find('h1') #choosing a specific html tag \n",
    "print(record1)                       \n",
    "\n",
    "#now creating a csv file and save the scraped data in csv file\n",
    "\n",
    "\n",
    "\n",
    "with open('new_file.csv','w',newline='') as file:#using context manager creating file and giving your file a name and save it in this case name is 'new_file'\n",
    "    header=['introduction']\n",
    "    save=csv.DictWriter(file,fieldnames=header)\n",
    "    \n",
    "    for record in record1:               \n",
    "        save.writerow({'introduction':record1}) #write the scrapped data in csv file\n",
    "    \n",
    "    \n"
   ]
  },
  {
   "cell_type": "code",
   "execution_count": null,
   "id": "bcb5901e",
   "metadata": {},
   "outputs": [],
   "source": []
  },
  {
   "cell_type": "code",
   "execution_count": null,
   "id": "73d7cab5",
   "metadata": {},
   "outputs": [],
   "source": []
  }
 ],
 "metadata": {
  "kernelspec": {
   "display_name": "Python 3 (ipykernel)",
   "language": "python",
   "name": "python3"
  },
  "language_info": {
   "codemirror_mode": {
    "name": "ipython",
    "version": 3
   },
   "file_extension": ".py",
   "mimetype": "text/x-python",
   "name": "python",
   "nbconvert_exporter": "python",
   "pygments_lexer": "ipython3",
   "version": "3.11.5"
  }
 },
 "nbformat": 4,
 "nbformat_minor": 5
}
